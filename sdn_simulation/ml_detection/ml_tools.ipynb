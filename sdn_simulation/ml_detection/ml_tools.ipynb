{
 "cells": [
  {
   "cell_type": "markdown",
   "metadata": {},
   "source": [
    "# Init Test Environment\n"
   ]
  },
  {
   "cell_type": "code",
   "execution_count": 14,
   "metadata": {},
   "outputs": [
    {
     "name": "stderr",
     "output_type": "stream",
     "text": [
      "2024-10-17 15:38:40,195:INFO -- RXOMS_PATH: /home/tringuyen/workspace/RXOMS\n"
     ]
    }
   ],
   "source": [
    "import logging\n",
    "import os\n",
    "from rxoms.utils import rxoms_utils as rutils\n",
    "import joblib\n",
    "import os\n",
    "import pandas as pd\n",
    "\n",
    "\n",
    "DEFAULT_CONFIG_FOLDER = \"/configuration/mltool/\"\n",
    "DEFAULT_PATH_LEVEL = 2\n",
    "IF_MODEL_FOLDER = \"/IF_models\"\n",
    "LOF_MODEL_FOLDER = \"/LOF_models\"\n",
    "\n",
    "# User must export RXOMS_PATH before using\n",
    "RXOMS_PATH = rutils.get_parent_directory(os.getcwd(), DEFAULT_PATH_LEVEL)\n",
    "logging.basicConfig(\n",
    "    format=\"%(asctime)s:%(levelname)s -- %(message)s\", level=logging.INFO\n",
    ")\n",
    "logging.info(f\"RXOMS_PATH: {RXOMS_PATH}\")"
   ]
  },
  {
   "cell_type": "markdown",
   "metadata": {},
   "source": [
    "# Prediction on simulation data\n",
    "- Each flow is predicted by a separated trained ML model.\n",
    "- The data is loaded from the [artifact](artifact/) folder.\n",
    "- Prediction is save to [anomaly_data](anomaly_data/) folder."
   ]
  },
  {
   "cell_type": "code",
   "execution_count": 15,
   "metadata": {},
   "outputs": [
    {
     "name": "stderr",
     "output_type": "stream",
     "text": [
      "2024-10-17 15:38:42,501:INFO -- flow_config: {'flow_list': [\"(1, 1, '00:00:00:00:00:04')\", \"(1, 2, '00:00:00:00:00:04')\", \"(1, 3, '00:00:00:00:00:04')\", \"(1, 4, '00:00:00:00:00:01')\", \"(1, 4, '00:00:00:00:00:02')\", \"(1, 4, '00:00:00:00:00:03')\", \"(1, 4, '00:00:00:00:00:06')\", \"(1, 4, '00:00:00:00:00:07')\", \"(1, 4, '00:00:00:00:00:08')\", \"(1, 5, '00:00:00:00:00:04')\", \"(2, 1, '00:00:00:00:00:02')\", \"(2, 1, '00:00:00:00:00:07')\", \"(2, 1, '00:00:00:00:00:08')\", \"(2, 2, '00:00:00:00:00:02')\", \"(2, 2, '00:00:00:00:00:07')\", \"(2, 2, '00:00:00:00:00:08')\", \"(2, 3, '00:00:00:00:00:04')\", \"(2, 3, '00:00:00:00:00:05')\", \"(2, 4, '00:00:00:00:00:04')\", \"(2, 4, '00:00:00:00:00:05')\", \"(2, 5, '00:00:00:00:00:04')\", \"(2, 5, '00:00:00:00:00:05')\"]}\n",
      "/home/tringuyen/anaconda3/envs/rxoms2/lib/python3.10/site-packages/sklearn/base.py:376: InconsistentVersionWarning: Trying to unpickle estimator LocalOutlierFactor from version 1.3.2 when using version 1.5.2. This might lead to breaking code or invalid results. Use at your own risk. For more info please refer to:\n",
      "https://scikit-learn.org/stable/model_persistence.html#security-maintainability-limitations\n",
      "  warnings.warn(\n",
      "/home/tringuyen/anaconda3/envs/rxoms2/lib/python3.10/site-packages/sklearn/base.py:376: InconsistentVersionWarning: Trying to unpickle estimator LocalOutlierFactor from version 1.3.2 when using version 1.5.2. This might lead to breaking code or invalid results. Use at your own risk. For more info please refer to:\n",
      "https://scikit-learn.org/stable/model_persistence.html#security-maintainability-limitations\n",
      "  warnings.warn(\n",
      "/home/tringuyen/anaconda3/envs/rxoms2/lib/python3.10/site-packages/sklearn/base.py:376: InconsistentVersionWarning: Trying to unpickle estimator LocalOutlierFactor from version 1.3.2 when using version 1.5.2. This might lead to breaking code or invalid results. Use at your own risk. For more info please refer to:\n",
      "https://scikit-learn.org/stable/model_persistence.html#security-maintainability-limitations\n",
      "  warnings.warn(\n",
      "/home/tringuyen/anaconda3/envs/rxoms2/lib/python3.10/site-packages/sklearn/base.py:376: InconsistentVersionWarning: Trying to unpickle estimator LocalOutlierFactor from version 1.3.2 when using version 1.5.2. This might lead to breaking code or invalid results. Use at your own risk. For more info please refer to:\n",
      "https://scikit-learn.org/stable/model_persistence.html#security-maintainability-limitations\n",
      "  warnings.warn(\n",
      "/home/tringuyen/anaconda3/envs/rxoms2/lib/python3.10/site-packages/sklearn/base.py:376: InconsistentVersionWarning: Trying to unpickle estimator LocalOutlierFactor from version 1.3.2 when using version 1.5.2. This might lead to breaking code or invalid results. Use at your own risk. For more info please refer to:\n",
      "https://scikit-learn.org/stable/model_persistence.html#security-maintainability-limitations\n",
      "  warnings.warn(\n",
      "/home/tringuyen/anaconda3/envs/rxoms2/lib/python3.10/site-packages/sklearn/base.py:376: InconsistentVersionWarning: Trying to unpickle estimator LocalOutlierFactor from version 1.3.2 when using version 1.5.2. This might lead to breaking code or invalid results. Use at your own risk. For more info please refer to:\n",
      "https://scikit-learn.org/stable/model_persistence.html#security-maintainability-limitations\n",
      "  warnings.warn(\n",
      "/home/tringuyen/anaconda3/envs/rxoms2/lib/python3.10/site-packages/sklearn/base.py:376: InconsistentVersionWarning: Trying to unpickle estimator LocalOutlierFactor from version 1.3.2 when using version 1.5.2. This might lead to breaking code or invalid results. Use at your own risk. For more info please refer to:\n",
      "https://scikit-learn.org/stable/model_persistence.html#security-maintainability-limitations\n",
      "  warnings.warn(\n",
      "/home/tringuyen/anaconda3/envs/rxoms2/lib/python3.10/site-packages/sklearn/base.py:376: InconsistentVersionWarning: Trying to unpickle estimator LocalOutlierFactor from version 1.3.2 when using version 1.5.2. This might lead to breaking code or invalid results. Use at your own risk. For more info please refer to:\n",
      "https://scikit-learn.org/stable/model_persistence.html#security-maintainability-limitations\n",
      "  warnings.warn(\n",
      "/home/tringuyen/anaconda3/envs/rxoms2/lib/python3.10/site-packages/sklearn/base.py:376: InconsistentVersionWarning: Trying to unpickle estimator LocalOutlierFactor from version 1.3.2 when using version 1.5.2. This might lead to breaking code or invalid results. Use at your own risk. For more info please refer to:\n",
      "https://scikit-learn.org/stable/model_persistence.html#security-maintainability-limitations\n",
      "  warnings.warn(\n",
      "/home/tringuyen/anaconda3/envs/rxoms2/lib/python3.10/site-packages/sklearn/base.py:376: InconsistentVersionWarning: Trying to unpickle estimator LocalOutlierFactor from version 1.3.2 when using version 1.5.2. This might lead to breaking code or invalid results. Use at your own risk. For more info please refer to:\n",
      "https://scikit-learn.org/stable/model_persistence.html#security-maintainability-limitations\n",
      "  warnings.warn(\n",
      "/home/tringuyen/anaconda3/envs/rxoms2/lib/python3.10/site-packages/sklearn/base.py:376: InconsistentVersionWarning: Trying to unpickle estimator LocalOutlierFactor from version 1.3.2 when using version 1.5.2. This might lead to breaking code or invalid results. Use at your own risk. For more info please refer to:\n",
      "https://scikit-learn.org/stable/model_persistence.html#security-maintainability-limitations\n",
      "  warnings.warn(\n",
      "/home/tringuyen/anaconda3/envs/rxoms2/lib/python3.10/site-packages/sklearn/base.py:376: InconsistentVersionWarning: Trying to unpickle estimator LocalOutlierFactor from version 1.3.2 when using version 1.5.2. This might lead to breaking code or invalid results. Use at your own risk. For more info please refer to:\n",
      "https://scikit-learn.org/stable/model_persistence.html#security-maintainability-limitations\n",
      "  warnings.warn(\n",
      "/home/tringuyen/anaconda3/envs/rxoms2/lib/python3.10/site-packages/sklearn/base.py:376: InconsistentVersionWarning: Trying to unpickle estimator LocalOutlierFactor from version 1.3.2 when using version 1.5.2. This might lead to breaking code or invalid results. Use at your own risk. For more info please refer to:\n",
      "https://scikit-learn.org/stable/model_persistence.html#security-maintainability-limitations\n",
      "  warnings.warn(\n",
      "/home/tringuyen/anaconda3/envs/rxoms2/lib/python3.10/site-packages/sklearn/base.py:376: InconsistentVersionWarning: Trying to unpickle estimator LocalOutlierFactor from version 1.3.2 when using version 1.5.2. This might lead to breaking code or invalid results. Use at your own risk. For more info please refer to:\n",
      "https://scikit-learn.org/stable/model_persistence.html#security-maintainability-limitations\n",
      "  warnings.warn(\n",
      "/home/tringuyen/anaconda3/envs/rxoms2/lib/python3.10/site-packages/sklearn/base.py:376: InconsistentVersionWarning: Trying to unpickle estimator LocalOutlierFactor from version 1.3.2 when using version 1.5.2. This might lead to breaking code or invalid results. Use at your own risk. For more info please refer to:\n",
      "https://scikit-learn.org/stable/model_persistence.html#security-maintainability-limitations\n",
      "  warnings.warn(\n",
      "/home/tringuyen/anaconda3/envs/rxoms2/lib/python3.10/site-packages/sklearn/base.py:376: InconsistentVersionWarning: Trying to unpickle estimator LocalOutlierFactor from version 1.3.2 when using version 1.5.2. This might lead to breaking code or invalid results. Use at your own risk. For more info please refer to:\n",
      "https://scikit-learn.org/stable/model_persistence.html#security-maintainability-limitations\n",
      "  warnings.warn(\n",
      "/home/tringuyen/anaconda3/envs/rxoms2/lib/python3.10/site-packages/sklearn/base.py:376: InconsistentVersionWarning: Trying to unpickle estimator LocalOutlierFactor from version 1.3.2 when using version 1.5.2. This might lead to breaking code or invalid results. Use at your own risk. For more info please refer to:\n",
      "https://scikit-learn.org/stable/model_persistence.html#security-maintainability-limitations\n",
      "  warnings.warn(\n",
      "/home/tringuyen/anaconda3/envs/rxoms2/lib/python3.10/site-packages/sklearn/base.py:376: InconsistentVersionWarning: Trying to unpickle estimator LocalOutlierFactor from version 1.3.2 when using version 1.5.2. This might lead to breaking code or invalid results. Use at your own risk. For more info please refer to:\n",
      "https://scikit-learn.org/stable/model_persistence.html#security-maintainability-limitations\n",
      "  warnings.warn(\n",
      "/home/tringuyen/anaconda3/envs/rxoms2/lib/python3.10/site-packages/sklearn/base.py:376: InconsistentVersionWarning: Trying to unpickle estimator LocalOutlierFactor from version 1.3.2 when using version 1.5.2. This might lead to breaking code or invalid results. Use at your own risk. For more info please refer to:\n",
      "https://scikit-learn.org/stable/model_persistence.html#security-maintainability-limitations\n",
      "  warnings.warn(\n",
      "/home/tringuyen/anaconda3/envs/rxoms2/lib/python3.10/site-packages/sklearn/base.py:376: InconsistentVersionWarning: Trying to unpickle estimator LocalOutlierFactor from version 1.3.2 when using version 1.5.2. This might lead to breaking code or invalid results. Use at your own risk. For more info please refer to:\n",
      "https://scikit-learn.org/stable/model_persistence.html#security-maintainability-limitations\n",
      "  warnings.warn(\n",
      "/home/tringuyen/anaconda3/envs/rxoms2/lib/python3.10/site-packages/sklearn/base.py:376: InconsistentVersionWarning: Trying to unpickle estimator LocalOutlierFactor from version 1.3.2 when using version 1.5.2. This might lead to breaking code or invalid results. Use at your own risk. For more info please refer to:\n",
      "https://scikit-learn.org/stable/model_persistence.html#security-maintainability-limitations\n",
      "  warnings.warn(\n",
      "/home/tringuyen/anaconda3/envs/rxoms2/lib/python3.10/site-packages/sklearn/base.py:376: InconsistentVersionWarning: Trying to unpickle estimator LocalOutlierFactor from version 1.3.2 when using version 1.5.2. This might lead to breaking code or invalid results. Use at your own risk. For more info please refer to:\n",
      "https://scikit-learn.org/stable/model_persistence.html#security-maintainability-limitations\n",
      "  warnings.warn(\n"
     ]
    }
   ],
   "source": [
    "config_path = str(RXOMS_PATH) + DEFAULT_CONFIG_FOLDER + \"flow.yaml\"\n",
    "config = rutils.load_config(config_path)\n",
    "logging.info(f\"flow_config: {config}\")\n",
    "\n",
    "for flow in config[\"flow_list\"]:\n",
    "    # Generate model paths\n",
    "    model_path_predict_byte = \"./artifact{}/model_predict_byte_for_flow_{}.pkl\".format(\n",
    "        LOF_MODEL_FOLDER, str(flow).replace(\", \", \"_\")\n",
    "    )\n",
    "    model_path_predict_packet = (\n",
    "        \"./artifact{}/model_predict_packet_for_flow_{}.pkl\".format(\n",
    "            LOF_MODEL_FOLDER, str(flow).replace(\", \", \"_\")\n",
    "        )\n",
    "    )\n",
    "\n",
    "    # Load models\n",
    "    byte_model = joblib.load(model_path_predict_byte)\n",
    "    packet_model = joblib.load(model_path_predict_packet)\n",
    "\n",
    "    byte_feature = [\"byte_count_Average_norm\", \"runtime\"]\n",
    "    packet_feature = [\"packet_count_Average_norm\", \"runtime\"]\n",
    "\n",
    "    flow_data_path = \"./flow_data/flow_{}.csv\".format(str(flow).replace(\", \", \"_\"))\n",
    "\n",
    "    flow_data = pd.read_csv(flow_data_path)\n",
    "\n",
    "    flow_data[\"byte_scores\"] = byte_model.decision_function(flow_data[byte_feature])\n",
    "    flow_data[\"packet_scores\"] = packet_model.decision_function(\n",
    "        flow_data[packet_feature]\n",
    "    )\n",
    "    flow_data[\"byte_anomaly\"] = byte_model.predict(flow_data[byte_feature])\n",
    "    flow_data[\"packet_anomaly\"] = packet_model.predict(flow_data[packet_feature])\n",
    "\n",
    "    anomal_data_path = \"./anomal_data/flow_{}.csv\".format(str(flow).replace(\", \", \"_\"))\n",
    "\n",
    "    # Save anomaly detection result\n",
    "    # flow_data.to_csv(anomal_data_path, mode=\"a\", header=not os.path.exists(anomal_data_path))"
   ]
  }
 ],
 "metadata": {
  "kernelspec": {
   "display_name": "rxoms2",
   "language": "python",
   "name": "python3"
  },
  "language_info": {
   "codemirror_mode": {
    "name": "ipython",
    "version": 3
   },
   "file_extension": ".py",
   "mimetype": "text/x-python",
   "name": "python",
   "nbconvert_exporter": "python",
   "pygments_lexer": "ipython3",
   "version": "3.10.15"
  }
 },
 "nbformat": 4,
 "nbformat_minor": 2
}
